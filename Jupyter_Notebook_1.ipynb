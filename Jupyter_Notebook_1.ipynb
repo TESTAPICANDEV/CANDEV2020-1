{
  "nbformat": 4,
  "nbformat_minor": 0,
  "metadata": {
    "colab": {
      "name": "Datasets_Glossary.ipynb",
      "provenance": [],
      "collapsed_sections": []
    },
    "kernelspec": {
      "name": "python3",
      "display_name": "Python 3"
    }
  },
  "cells": [
    {
      "cell_type": "code",
      "metadata": {
        "id": "OC71xGg6L6UQ",
        "colab_type": "code",
        "outputId": "0238b222-007a-4052-c8ea-d2bfde024b44",
        "colab": {
          "base_uri": "https://localhost:8080/",
          "height": 122
        }
      },
      "source": [
        "from google.colab import drive\n",
        "drive.mount('/content/drive',force_remount=False)"
      ],
      "execution_count": 2,
      "outputs": [
        {
          "output_type": "stream",
          "text": [
            "Go to this URL in a browser: https://accounts.google.com/o/oauth2/auth?client_id=947318989803-6bn6qk8qdgf4n4g3pfee6491hc0brc4i.apps.googleusercontent.com&redirect_uri=urn%3aietf%3awg%3aoauth%3a2.0%3aoob&response_type=code&scope=email%20https%3a%2f%2fwww.googleapis.com%2fauth%2fdocs.test%20https%3a%2f%2fwww.googleapis.com%2fauth%2fdrive%20https%3a%2f%2fwww.googleapis.com%2fauth%2fdrive.photos.readonly%20https%3a%2f%2fwww.googleapis.com%2fauth%2fpeopleapi.readonly\n",
            "\n",
            "Enter your authorization code:\n",
            "··········\n",
            "Mounted at /content/drive\n"
          ],
          "name": "stdout"
        }
      ]
    },
    {
      "cell_type": "code",
      "metadata": {
        "id": "XWKDZ7hkMay2",
        "colab_type": "code",
        "colab": {}
      },
      "source": [
        "import numpy as np\n",
        "import pandas as pd\n",
        "import os\n",
        "import zipfile\n",
        "from os.path import splitext\n",
        "from glob import glob\n",
        "from datetime import datetime  \n",
        "from datetime import timedelta \n",
        "import datetime\n",
        "from matplotlib import  pyplot as plt"
      ],
      "execution_count": 0,
      "outputs": []
    },
    {
      "cell_type": "code",
      "metadata": {
        "id": "3Lyd5v-kO7vP",
        "colab_type": "code",
        "colab": {}
      },
      "source": [
        "path_main='/content/drive/My Drive/CANDEV 2020/'\n"
      ],
      "execution_count": 0,
      "outputs": []
    },
    {
      "cell_type": "code",
      "metadata": {
        "id": "_7svzmQjNjQX",
        "colab_type": "code",
        "outputId": "8603fd81-416b-4b9d-c544-105d2f7510ae",
        "colab": {
          "base_uri": "https://localhost:8080/",
          "height": 54
        }
      },
      "source": [
        "folders=os.listdir(path_main)\n",
        "print(folders)"
      ],
      "execution_count": 20,
      "outputs": [
        {
          "output_type": "stream",
          "text": [
            "['CANDEV', 'all_CD_Business_tweets.csv', 'all_ccd_data.csv', 'all_CD_Science_tweets.csv', 'all_CD_Tourism_tweets.csv', 'all_CD_ISED_tweets.csv', 'Contact Centre Data', 'Media Relations Data', 'Social Media Data', 'Public Opinion Research Data', 'Web Data']\n"
          ],
          "name": "stdout"
        }
      ]
    },
    {
      "cell_type": "code",
      "metadata": {
        "id": "iAFBoF0mNywL",
        "colab_type": "code",
        "colab": {}
      },
      "source": [
        "CCD_files=os.listdir('/content/drive/My Drive/CanDev_ISED_2020/Contact Centre Data/')\n",
        "MRD_files=os.listdir('/content/drive/My Drive/CanDev_ISED_2020/Media Relations Data/')\n",
        "WD_files=os.listdir('/content/drive/My Drive/CanDev_ISED_2020/Web Data')\n",
        "SMD_files=os.listdir('/content/drive/My Drive/CanDev_ISED_2020/Social Media Data')\n",
        "POR_files=os.listdir('/content/drive/My Drive/CanDev_ISED_2020/Public Opinion Research Data')"
      ],
      "execution_count": 0,
      "outputs": []
    },
    {
      "cell_type": "markdown",
      "metadata": {
        "id": "1DhrUhLQWVWq",
        "colab_type": "text"
      },
      "source": [
        "Contact Center Data\n"
      ]
    },
    {
      "cell_type": "code",
      "metadata": {
        "id": "LDNOMrHbQ75U",
        "colab_type": "code",
        "outputId": "c0f7831e-fcf4-4eb5-85fe-fe72d6183503",
        "colab": {
          "base_uri": "https://localhost:8080/",
          "height": 221
        }
      },
      "source": [
        "for file in CCD_files:\n",
        "    print(file)"
      ],
      "execution_count": 7,
      "outputs": [
        {
          "output_type": "stream",
          "text": [
            "Can Dev - Hackathon - Contact Centre Data - Calls April 2019.xlsx\n",
            "Can Dev - Hackathon - Contact Centre Data - Calls March 2019.xlsx\n",
            "Can Dev - Hackathon - Contact Centre Data - Calls January 2019.xlsx\n",
            "Can Dev - Hackathon - Contact Centre Data - Calls July 2019.xlsx\n",
            "Can Dev - Hackathon - Contact Centre Data - Calls June 2019.xlsx\n",
            "Can Dev - Hackathon - Contact Centre Data - Calls February 2019.xlsx\n",
            "Can Dev - Hackathon - Contact Centre Data - Calls May 2019.xlsx\n",
            "Can Dev - Hackathon - Contact Centre Data - Calls August 2019.xlsx\n",
            "Can Dev - Hackathon - Contact Centre Data - Web Chats Jan. 1 to Aug. 31, 2019.xlsx\n",
            "Can Dev - Hackathon - Contact Centre Data - Emails Jan. 1 to Aug. 31, 2019.xlsx\n",
            "All contact Centre Metrics from Jan. 1, 2019 to August 31, 2019.xls\n",
            "Contact Centre Tagging Definitions.docx\n"
          ],
          "name": "stdout"
        }
      ]
    },
    {
      "cell_type": "code",
      "metadata": {
        "id": "0TUinzU3Oa2x",
        "colab_type": "code",
        "colab": {}
      },
      "source": [
        "CCD_Calls_Jan=pd.read_excel(path_main+'Contact Centre Data/'+'Can Dev - Hackathon - Contact Centre Data - Calls January 2019.xlsx')\n",
        "CCD_Calls_Feb=pd.read_excel(path_main+'Contact Centre Data/'+'Can Dev - Hackathon - Contact Centre Data - Calls February 2019.xlsx')\n",
        "CCD_Calls_March=pd.read_excel(path_main+'Contact Centre Data/'+'Can Dev - Hackathon - Contact Centre Data - Calls March 2019.xlsx')\n",
        "CCD_Calls_April=pd.read_excel(path_main+'Contact Centre Data/'+'Can Dev - Hackathon - Contact Centre Data - Calls April 2019.xlsx')\n",
        "CCD_Calls_May=pd.read_excel(path_main+'Contact Centre Data/'+'Can Dev - Hackathon - Contact Centre Data - Calls May 2019.xlsx')\n",
        "CCD_Calls_June=pd.read_excel(path_main+'Contact Centre Data/'+'Can Dev - Hackathon - Contact Centre Data - Calls June 2019.xlsx')\n",
        "CCD_Calls_July=pd.read_excel(path_main+'Contact Centre Data/'+'Can Dev - Hackathon - Contact Centre Data - Calls July 2019.xlsx')\n",
        "CCD_Calls_August=pd.read_excel(path_main+'Contact Centre Data/'+'Can Dev - Hackathon - Contact Centre Data - Calls August 2019.xlsx')\n",
        "CCD_WebChats=pd.read_excel(path_main+'Contact Centre Data/'+'Can Dev - Hackathon - Contact Centre Data - Web Chats Jan. 1 to Aug. 31, 2019.xlsx')\n",
        "CCD_Emails=pd.read_excel(path_main+'Contact Centre Data/'+'Can Dev - Hackathon - Contact Centre Data - Emails Jan. 1 to Aug. 31, 2019.xlsx')\n"
      ],
      "execution_count": 0,
      "outputs": []
    },
    {
      "cell_type": "code",
      "metadata": {
        "id": "DOMtXFCeP_79",
        "colab_type": "code",
        "colab": {}
      },
      "source": [
        "# CCD_Metrics=pd.read_excel(path_main+'Contact Centre Data/'+'All contact Centre Metrics from Jan. 1, 2019 to August 31, 2019.xls')"
      ],
      "execution_count": 0,
      "outputs": []
    },
    {
      "cell_type": "code",
      "metadata": {
        "id": "8x_U1EQaZ11k",
        "colab_type": "code",
        "colab": {}
      },
      "source": [
        ""
      ],
      "execution_count": 0,
      "outputs": []
    },
    {
      "cell_type": "markdown",
      "metadata": {
        "id": "-G5bGuykgpBI",
        "colab_type": "text"
      },
      "source": [
        "Media Relations Data\n"
      ]
    },
    {
      "cell_type": "code",
      "metadata": {
        "id": "tqlEEK_6Usbv",
        "colab_type": "code",
        "colab": {}
      },
      "source": [
        "for file in MRD_files:\n",
        "    print(file)"
      ],
      "execution_count": 0,
      "outputs": []
    },
    {
      "cell_type": "code",
      "metadata": {
        "id": "oHK1Vazfgz9C",
        "colab_type": "code",
        "colab": {}
      },
      "source": [
        "MRD=pd.read_excel(path_main+'Media Relations Data/'+'Can Dev - Hackathon - Media Relations Data - Jan. 1 to Aug. 31, 2019.xlsx')"
      ],
      "execution_count": 0,
      "outputs": []
    },
    {
      "cell_type": "markdown",
      "metadata": {
        "id": "7pAE1PhUhRGN",
        "colab_type": "text"
      },
      "source": [
        "Public Opinion Research\n"
      ]
    },
    {
      "cell_type": "code",
      "metadata": {
        "id": "0KU94P8DhYfN",
        "colab_type": "code",
        "colab": {}
      },
      "source": [
        "for file in POR_files:\n",
        "    print(file)"
      ],
      "execution_count": 0,
      "outputs": []
    },
    {
      "cell_type": "code",
      "metadata": {
        "id": "kEGT3gEjhc6o",
        "colab_type": "code",
        "colab": {}
      },
      "source": [
        "# How to read a gdoc file ?"
      ],
      "execution_count": 0,
      "outputs": []
    },
    {
      "cell_type": "markdown",
      "metadata": {
        "id": "AGMH1v5bhkfO",
        "colab_type": "text"
      },
      "source": [
        "Web Data\n"
      ]
    },
    {
      "cell_type": "code",
      "metadata": {
        "id": "FX2t8lK6hjba",
        "colab_type": "code",
        "outputId": "a0721916-ad1d-4bbc-c868-6dabd4a1df51",
        "colab": {
          "base_uri": "https://localhost:8080/",
          "height": 221
        }
      },
      "source": [
        "for file in WD_files:\n",
        "    print(file)"
      ],
      "execution_count": 10,
      "outputs": [
        {
          "output_type": "stream",
          "text": [
            "Web Data Glossary of Terms.docx\n",
            "Cities.csv\n",
            "Entry Pages.csv\n",
            "Countries.csv\n",
            "Search Phrases.csv\n",
            "Pages-Visits_views_TimeOnPage.csv\n",
            "Visits by Hour of the Day.csv\n",
            "Platforms.csv\n",
            "Visit Duration by Visits.csv\n",
            "Single-Page Visits.csv\n",
            "Visits by Day of the Week.csv\n",
            "Referring Page.csv\n"
          ],
          "name": "stdout"
        }
      ]
    },
    {
      "cell_type": "markdown",
      "metadata": {
        "id": "z4qogpNpxq0t",
        "colab_type": "text"
      },
      "source": [
        "Social Media "
      ]
    },
    {
      "cell_type": "code",
      "metadata": {
        "id": "tMYPeP-chjeU",
        "colab_type": "code",
        "colab": {
          "base_uri": "https://localhost:8080/",
          "height": 748
        },
        "outputId": "24ae0e02-296c-426b-b832-9b7f775dc90a"
      },
      "source": [
        "SMD_files"
      ],
      "execution_count": 11,
      "outputs": [
        {
          "output_type": "execute_result",
          "data": {
            "text/plain": [
              "['Social Media Glossary of Terms -bw.docx',\n",
              " 'CDNtourism  tweet_activity_metrics - June 2019 - EN (1).xlsx',\n",
              " 'Facebook Insights Data Export (Post Level) - Canadian Science - Jun - Aug 2019.xls',\n",
              " 'CDNtourism  tweet_activity_metrics - Feb 2019 - EN (1).xlsx',\n",
              " 'Facebook Insights Data Export (Post Level) - Canada Business - Jan - May 2019.xls',\n",
              " 'CanadaBusiness  tweet_activity_metrics - July 2019 - EN (1).xlsx',\n",
              " 'ISED tweet_activity_metrics_ISED - June 2019 - EN.xlsx',\n",
              " 'Facebook Insights Data Export (Post Level) - Canadian Innovation - 2019-11-22.xls',\n",
              " 'CDNScience  tweet_activity_metrics - Feb 2019 - EN (1).xlsx',\n",
              " 'CDNScience tweet_activity_metrics - May 2019 - EN.xlsx',\n",
              " 'CDNtourism  tweet_activity_metrics - Aug 2019 - EN (1).xlsx',\n",
              " 'CanadaBusiness  tweet_activity_metrics - Mar 2019 - EN (1).xlsx',\n",
              " 'CDNScience tweet_activity_metrics - Apr 2019 - EN.xlsx',\n",
              " 'facebook_post_performance_2018-09-01_to_2019-08-31_created_on_20190923T1907Z.xlsx',\n",
              " 'Facebook Insights Data Export (Post Level) - Canadian Science - Jan - May 2019.xls',\n",
              " 'ISED Social Media - Audience analysis.xlsx',\n",
              " 'CDNScience tweet_activity_metrics - June 2019 - EN.xlsx',\n",
              " 'ISED tweet_activity_metrics_ISED - Apr 2019 - EN.xlsx',\n",
              " 'facebook_post_performance_2019-01-01_to_2019-08-31_created_on_20190923T1906Z.xlsx',\n",
              " 'Facebook Insights Data Export (Post Level) - Canadian Innovation - 2019-11-22 (1).xls',\n",
              " 'CDNtourism  tweet_activity_metrics - Apr 2019 - EN (1).xlsx',\n",
              " 'ISED tweet_activity_metrics_ISED - Feb 2019 - EN.csv',\n",
              " 'ISED tweet_activity_metrics_ISED - Aug 2019 - EN.xlsx',\n",
              " 'CanadaBusiness  tweet_activity_metrics - May 2019 - EN (1).xlsx',\n",
              " 'ISED tweet_activity_metrics_ISED - Mar 2019 - EN.xlsx',\n",
              " 'CDNScience tweet_activity_metrics - Aug 2019 - EN.xlsx',\n",
              " 'CanadaBusiness  tweet_activity_metrics - Jan 2019 - EN (1).xlsx',\n",
              " 'CDNtourism  tweet_activity_metrics - July 2019 - EN (1).xlsx',\n",
              " 'CDNScience tweet_activity_metrics - Jan 2019 - EN.xlsx',\n",
              " 'ISED - Linkedin Metrics - Jan - Aug 2019.xls',\n",
              " 'ISED tweet_activity_metrics_ISED - May 2019 - EN.xlsx',\n",
              " 'Facebook Insights Data Export (Post Level) - Canada Business - June - Aug 2019.xls',\n",
              " 'CDNtourism  tweet_activity_metrics - Mar 2019 - EN (1).xlsx',\n",
              " 'ISED tweet_activity_metrics_ISED - July 2019 - EN.xlsx',\n",
              " 'CDNScience tweet_activity_metrics - July 2019 - EN.xlsx',\n",
              " 'CanadaBusiness  tweet_activity_metrics - June 2019 - EN (1).xlsx',\n",
              " 'CanadaBusiness  tweet_activity_metrics - Apr 2019 - EN (1).xlsx',\n",
              " 'CanadaBusiness  tweet_activity_metrics - Feb 2019 - EN (1).xlsx',\n",
              " 'CanadaBusiness  tweet_activity_metrics - Aug 2019 - EN (1).xlsx',\n",
              " 'CDNScience tweet_activity_metrics - Mar 2019 - EN.xlsx',\n",
              " 'CDNtourism  tweet_activity_metrics - Jan 2019 - EN (1).xlsx',\n",
              " 'CDNtourism  tweet_activity_metrics - May 2019 - EN (1).xlsx',\n",
              " 'ISED tweet_activity_metrics_ISED - Jan 2019 - EN.csv']"
            ]
          },
          "metadata": {
            "tags": []
          },
          "execution_count": 11
        }
      ]
    },
    {
      "cell_type": "code",
      "metadata": {
        "id": "6uhBTda0hjYm",
        "colab_type": "code",
        "colab": {}
      },
      "source": [
        "# Canada Tourism\n",
        "SMP_Tourism_Jan=pd.read_excel(path_main+'Social Media Data/'+'CDNtourism  tweet_activity_metrics - Jan 2019 - EN (1).xlsx')\n",
        "SMP_Tourism_Feb=pd.read_excel(path_main+'Social Media Data/'+'CDNtourism  tweet_activity_metrics - Feb 2019 - EN (1).xlsx')\n",
        "SMP_Tourism_Mar=pd.read_excel(path_main+'Social Media Data/'+'CDNtourism  tweet_activity_metrics - Mar 2019 - EN (1).xlsx')\n",
        "SMP_Tourism_April=pd.read_excel(path_main+'Social Media Data/'+'CDNtourism  tweet_activity_metrics - Apr 2019 - EN (1).xlsx')\n",
        "SMP_Tourism_May=pd.read_excel(path_main+'Social Media Data/'+'CDNtourism  tweet_activity_metrics - May 2019 - EN (1).xlsx')\n",
        "SMP_Tourism_June=pd.read_excel(path_main+'Social Media Data/'+'CDNtourism  tweet_activity_metrics - June 2019 - EN (1).xlsx')\n",
        "SMP_Tourism_July=pd.read_excel(path_main+'Social Media Data/'+'CDNtourism  tweet_activity_metrics - July 2019 - EN (1).xlsx')\n",
        "SMP_Tourism_Aug=pd.read_excel(path_main+'Social Media Data/'+'CDNtourism  tweet_activity_metrics - Aug 2019 - EN (1).xlsx')\n"
      ],
      "execution_count": 0,
      "outputs": []
    },
    {
      "cell_type": "code",
      "metadata": {
        "id": "LTQRn0omhjWf",
        "colab_type": "code",
        "colab": {}
      },
      "source": [
        "# Canada Business\n",
        "SMP_business_Jan=pd.read_excel(path_main+'Social Media Data/'+'CanadaBusiness  tweet_activity_metrics - Jan 2019 - EN (1).xlsx')\n",
        "SMP_business_Feb=pd.read_excel(path_main+'Social Media Data/'+'CanadaBusiness  tweet_activity_metrics - Feb 2019 - EN (1).xlsx')\n",
        "SMP_business_March=pd.read_excel(path_main+'Social Media Data/'+'CanadaBusiness  tweet_activity_metrics - Mar 2019 - EN (1).xlsx')\n",
        "SMP_business_April=pd.read_excel(path_main+'Social Media Data/'+'CanadaBusiness  tweet_activity_metrics - Apr 2019 - EN (1).xlsx')\n",
        "SMP_business_May=pd.read_excel(path_main+'Social Media Data/'+'CanadaBusiness  tweet_activity_metrics - May 2019 - EN (1).xlsx')\n",
        "SMP_business_June=pd.read_excel(path_main+'Social Media Data/'+'CanadaBusiness  tweet_activity_metrics - June 2019 - EN (1).xlsx')\n",
        "SMP_business_July=pd.read_excel(path_main+'Social Media Data/'+'CanadaBusiness  tweet_activity_metrics - July 2019 - EN (1).xlsx')\n",
        "SMP_business_Aug=pd.read_excel(path_main+'Social Media Data/'+'CanadaBusiness  tweet_activity_metrics - Aug 2019 - EN (1).xlsx')\n",
        "\n",
        "#SMP_business_June_to_Aug=pd.read_excel(path_main+'Social Media Data/'+'Facebook Insights Data Export (Post Level) - Canada Business - June - Aug 2019.xls')\n",
        "#SMP_business_Jan_to_May=pd.read_excel(path_main+'Social Media Data/'+'Facebook Insights Data Export (Post Level) - Canada Business - Jan - May 2019.xls')\n"
      ],
      "execution_count": 0,
      "outputs": []
    },
    {
      "cell_type": "code",
      "metadata": {
        "id": "FphXjMLbH7R5",
        "colab_type": "code",
        "colab": {}
      },
      "source": [
        "# Canada Science\n",
        "SMP_Science_Jan=pd.read_excel(path_main+'Social Media Data/'+'CDNScience tweet_activity_metrics - Jan 2019 - EN.xlsx')\n",
        "SMP_Science_Feb=pd.read_excel(path_main+'Social Media Data/'+'CDNScience  tweet_activity_metrics - Feb 2019 - EN (1).xlsx')\n",
        "SMP_Science_Mar=pd.read_excel(path_main+'Social Media Data/'+'CDNScience tweet_activity_metrics - Mar 2019 - EN.xlsx')\n",
        "SMP_Science_April=pd.read_excel(path_main+'Social Media Data/'+'CDNScience tweet_activity_metrics - Apr 2019 - EN.xlsx')\n",
        "SMP_Science_May=pd.read_excel(path_main+'Social Media Data/'+'CDNScience tweet_activity_metrics - May 2019 - EN.xlsx')\n",
        "SMP_Science_June=pd.read_excel(path_main+'Social Media Data/'+'CDNScience tweet_activity_metrics - June 2019 - EN.xlsx')\n",
        "SMP_Science_July=pd.read_excel(path_main+'Social Media Data/'+'CDNScience tweet_activity_metrics - July 2019 - EN.xlsx')\n",
        "SMP_Science_Aug=pd.read_excel(path_main+'Social Media Data/'+'CDNScience tweet_activity_metrics - Aug 2019 - EN.xlsx')\n",
        "\n",
        "#SMP_Science_June_to_Aug_Facebook=pd.read_excel(path_main+'Social Media Data/'+'Facebook Insights Data Export (Post Level) - Canadian Science - Jun - Aug 2019.xls')\n",
        "#SMP_Science_Jan_to_May_Facebook=pd.read_excel(path_main+'Social Media Data/'+'Facebook Insights Data Export (Post Level) - Canada Business - Jan - May 2019.xls')\n",
        "\n",
        "\n",
        "\n",
        "\n",
        "\n",
        "\n"
      ],
      "execution_count": 0,
      "outputs": []
    },
    {
      "cell_type": "code",
      "metadata": {
        "id": "9CJqteDmIrBP",
        "colab_type": "code",
        "colab": {}
      },
      "source": [
        "# Canada Innovation\n",
        "# SMP_Innovation=pd.read_excel(path_main+'Social Media Data/'+'Facebook Insights Data Export (Post Level) - Canadian Innovation - 2019-11-22 (1).xls')\n",
        "# Facebook Insights Data Export (Post Level) - Canadian Innovation - 2019-11-22.xls\n"
      ],
      "execution_count": 0,
      "outputs": []
    },
    {
      "cell_type": "code",
      "metadata": {
        "id": "tTrsgMtzI8tn",
        "colab_type": "code",
        "colab": {}
      },
      "source": [
        "# ISED Tweets\n",
        "\n",
        "SMP_ISED_Jan=pd.read_csv(path_main+'Social Media Data/'+'ISED tweet_activity_metrics_ISED - Jan 2019 - EN.csv')\n",
        "SMP_ISED_Feb=pd.read_csv(path_main+'Social Media Data/'+'ISED tweet_activity_metrics_ISED - Feb 2019 - EN.csv')\n",
        "SMP_ISED_Mar=pd.read_excel(path_main+'Social Media Data/'+'ISED tweet_activity_metrics_ISED - Mar 2019 - EN.xlsx')\n",
        "SMP_ISED_April=pd.read_excel(path_main+'Social Media Data/'+'ISED tweet_activity_metrics_ISED - Apr 2019 - EN.xlsx')\n",
        "SMP_ISED_May=pd.read_excel(path_main+'Social Media Data/'+'ISED tweet_activity_metrics_ISED - May 2019 - EN.xlsx')\n",
        "SMP_ISED_June=pd.read_excel(path_main+'Social Media Data/'+'ISED tweet_activity_metrics_ISED - June 2019 - EN.xlsx')\n",
        "SMP_ISED_July=pd.read_excel(path_main+'Social Media Data/'+'ISED tweet_activity_metrics_ISED - July 2019 - EN.xlsx')\n",
        "SMP_ISED_Aug=pd.read_excel(path_main+'Social Media Data/'+'ISED tweet_activity_metrics_ISED - Aug 2019 - EN.xlsx')\n"
      ],
      "execution_count": 0,
      "outputs": []
    },
    {
      "cell_type": "markdown",
      "metadata": {
        "id": "H1aSjVxUE2ls",
        "colab_type": "text"
      },
      "source": [
        "Combining the Datasets "
      ]
    },
    {
      "cell_type": "code",
      "metadata": {
        "id": "sVzdCl3KE87c",
        "colab_type": "code",
        "colab": {}
      },
      "source": [
        "# Each dataset which had data saperately for each month were merged into one dataset with all the months data\n",
        "# We introduced a column \"Month\" in the final dataframe to distinguish the rows of various months"
      ],
      "execution_count": 0,
      "outputs": []
    },
    {
      "cell_type": "code",
      "metadata": {
        "id": "HqosKFQYFx9V",
        "colab_type": "code",
        "colab": {}
      },
      "source": [
        "# Ask Mansoor for this section of codes for combining the various months datatsets into one"
      ],
      "execution_count": 0,
      "outputs": []
    },
    {
      "cell_type": "markdown",
      "metadata": {
        "id": "DfX9KhznF7Wr",
        "colab_type": "text"
      },
      "source": [
        "\n",
        "\n",
        "An Evaluation tool for whether marketing (social media posts) is impacting the communication sector (Contact Center Data and Media Relations ) of ISED"
      ]
    },
    {
      "cell_type": "code",
      "metadata": {
        "id": "8viYVjF3FyBo",
        "colab_type": "code",
        "colab": {}
      },
      "source": [
        "# Provide a tool to evaluate how social media posts effect the Contact Center / Media Relations transactions"
      ],
      "execution_count": 0,
      "outputs": []
    },
    {
      "cell_type": "code",
      "metadata": {
        "id": "VIS5ZdUuGiF8",
        "colab_type": "code",
        "colab": {}
      },
      "source": [
        "# Reading the Datasets \n",
        "all_ccd=pd.read_csv(path_main+'all_ccd_data.csv',parse_dates=['Date Closed'])\n",
        "all_CD_Business_tweets=pd.read_csv(path_main+'all_CD_Business_tweets.csv',parse_dates=['time'])\n",
        "all_CD_ISED_tweets=pd.read_csv(path_main+'all_CD_ISED_tweets.csv',parse_dates=['time'])\n",
        "all_CD_Science_tweets=pd.read_csv(path_main+'all_CD_Science_tweets.csv',parse_dates=['time'])\n",
        "all_CD_Tourism_tweets=pd.read_csv(path_main+'all_CD_Tourism_tweets.csv',parse_dates=['time'])"
      ],
      "execution_count": 0,
      "outputs": []
    },
    {
      "cell_type": "code",
      "metadata": {
        "id": "TcWEdfgDFyEY",
        "colab_type": "code",
        "colab": {}
      },
      "source": [
        "# Introducing the filed \"Topic\" in all the Social Media Datasets \n",
        "all_CD_Tourism_tweets['Topic']=None\n",
        "all_CD_Business_tweets['Topic']=None\n",
        "all_CD_Science_tweets['Topic']=None\n",
        "all_CD_ISED_tweets['Topic']=None\n",
        "\n",
        "# Copying the values of 'Topic' field from Contact Center Data and/or Media Relations datasets \n",
        "topic = all_ccd.Topic.drop_duplicates().values"
      ],
      "execution_count": 0,
      "outputs": []
    },
    {
      "cell_type": "code",
      "metadata": {
        "id": "q4KaJrWFPfAL",
        "colab_type": "code",
        "colab": {
          "base_uri": "https://localhost:8080/",
          "height": 173
        },
        "outputId": "2beb9b98-7f15-4f24-b9e2-8fd493dde465"
      },
      "source": [
        "# Assign each sample tweet to one of the variable from 'Topic' RANDOMNLY,\n",
        "# This is to ensure each tweet is associated with some topic that the Communications Department\n",
        "all_CD_Tourism_tweets['Topic']=None\n",
        "for x in all_CD_Tourism_tweets.index.values:\n",
        "    all_CD_Tourism_tweets.set_value(x,'Topic',random.choice(topic))\n",
        "\n",
        "for x in all_CD_Business_tweets.index.values:\n",
        "    all_CD_Business_tweets.set_value(x,'Topic',random.choice(topic))\n",
        "\n",
        "for x in all_CD_Science_tweets.index.values:\n",
        "    all_CD_Science_tweets.set_value(x,'Topic',random.choice(topic))\n",
        "\n",
        "for x in all_CD_ISED_tweets.index.values:\n",
        "    all_CD_ISED_tweets.set_value(x,'Topic',random.choice(topic))\n",
        "\n"
      ],
      "execution_count": 96,
      "outputs": [
        {
          "output_type": "stream",
          "text": [
            "/usr/local/lib/python3.6/dist-packages/ipykernel_launcher.py:3: FutureWarning: set_value is deprecated and will be removed in a future release. Please use .at[] or .iat[] accessors instead\n",
            "  This is separate from the ipykernel package so we can avoid doing imports until\n",
            "/usr/local/lib/python3.6/dist-packages/ipykernel_launcher.py:6: FutureWarning: set_value is deprecated and will be removed in a future release. Please use .at[] or .iat[] accessors instead\n",
            "  \n",
            "/usr/local/lib/python3.6/dist-packages/ipykernel_launcher.py:9: FutureWarning: set_value is deprecated and will be removed in a future release. Please use .at[] or .iat[] accessors instead\n",
            "  if __name__ == '__main__':\n",
            "/usr/local/lib/python3.6/dist-packages/ipykernel_launcher.py:12: FutureWarning: set_value is deprecated and will be removed in a future release. Please use .at[] or .iat[] accessors instead\n",
            "  if sys.path[0] == '':\n"
          ],
          "name": "stderr"
        }
      ]
    },
    {
      "cell_type": "code",
      "metadata": {
        "id": "fIZYnx56Pji4",
        "colab_type": "code",
        "colab": {}
      },
      "source": [
        "# Note: In practical scenario , the tweets would be assigned as per some criteria ,\n",
        "# For example, A tweet about Pipelines would be assigned to topic \"industries and business\" or \n",
        "# A tweet about funding opportunities in ISED will be assigned to topic \"financing\"\n",
        "\n",
        "# Why did we assign the tweets to topic RANDOMNLY in our experiment?\n",
        "# Ans: It requires some internal policy of the ISED to decide which tweet goes into which topic, \n",
        "#      The ISED must have some internal policy for categorizing the client inquiries into these topics , so it will not be tough to integrate the same rules to SOcial media tweets, \n",
        "#      For our data challenge ,We do not have access to that internal policy and moreover a random assignment of the tweets  \n",
        "#      to the topic will be helpful in achieving more robust and scalable evaluation tool!\n",
        "\n",
        "# Below are some of the top \"topics\" that Contact Center and Media Relations receive inquiries about:\n",
        "# bankruptcy\n",
        "# consumer affairs\n",
        "# corporate content\n",
        "# corporations\n",
        "#  imports exports and investment\n",
        "# internet radio and wireless\n",
        "#  policies and research\n",
        "#  statistics and research\n",
        "# and many more ..\n"
      ],
      "execution_count": 0,
      "outputs": []
    },
    {
      "cell_type": "code",
      "metadata": {
        "id": "Elf-AiTRQCzT",
        "colab_type": "code",
        "colab": {}
      },
      "source": [
        "#Step 1 :\n",
        "# Request input Date and the period from the stakeholder\n",
        "\n",
        "post_date='2019-01-24'\n",
        "post_date_end='2019-02-24'\n",
        "\n",
        "# post_date=input(\"Enter the social media post date: \")\n",
        "# post_date_end=input('Enter the date untill which the posts were active:')\n",
        "\n",
        "selected_posts=all_CD_Business_tweets[(all_CD_Business_tweets['time'] > post_date) & (all_CD_Business_tweets['time'] < post_date_end)]"
      ],
      "execution_count": 0,
      "outputs": []
    },
    {
      "cell_type": "code",
      "metadata": {
        "id": "oEu114YYQeYI",
        "colab_type": "code",
        "colab": {}
      },
      "source": [
        "# Step2:\n",
        "# We assume that the impact of a social media post will have an impact for a week \n",
        "# i.e clients will engage for not more than 7 days after an effective social media post.\n",
        "# could be less than 7 days as well, Needs more research to come up with an appropriate number\n",
        "post_date_end_ccd=datetime.datetime.strptime(post_date_end ,'%Y-%m-%d')+timedelta(days=7)\n",
        "\n",
        "# The resultant inquiries are compared with baseline inquiries , the inquiries within 7 days before the compaign period\n",
        "baseline_date=datetime.datetime.strptime(post_date ,'%Y-%m-%d')- timedelta(days=7)\n",
        "selected_inquiries=all_ccd[(all_ccd['Date Closed'] > post_date) & (all_ccd['Date Closed'] < post_date_end_ccd)]"
      ],
      "execution_count": 0,
      "outputs": []
    },
    {
      "cell_type": "code",
      "metadata": {
        "id": "n_DlpR-YTKyk",
        "colab_type": "code",
        "colab": {}
      },
      "source": [
        "# Step 3 : \n",
        "# Filtering the CCD Dataset along with Social Media post Dataset for the relationship\n",
        "filtered_inquiries=selected_inquiries[np.isin(selected_inquiries.Topic.values, selected_posts.Topic.values)]"
      ],
      "execution_count": 0,
      "outputs": []
    },
    {
      "cell_type": "code",
      "metadata": {
        "id": "03u83SEyBUMF",
        "colab_type": "code",
        "colab": {}
      },
      "source": [
        "# Step4 :\n",
        "baseline_inquiries=all_ccd[(all_ccd['Date Closed'] > baseline_date) & (all_ccd['Date Closed'] < post_date)]\n"
      ],
      "execution_count": 0,
      "outputs": []
    },
    {
      "cell_type": "code",
      "metadata": {
        "id": "EtWkaTmURasR",
        "colab_type": "code",
        "colab": {}
      },
      "source": [
        "# Step5 :\n",
        "#Generate visualizations using the filtered inquiries dataset and Baseline inquiry datasets from POWER BI\n"
      ],
      "execution_count": 0,
      "outputs": []
    },
    {
      "cell_type": "code",
      "metadata": {
        "id": "Dd6uxhjnS9Xm",
        "colab_type": "code",
        "colab": {}
      },
      "source": [
        "filtered_inquiries.to_csv('/content/drive/My Drive/CANDEV 2020/filtered_inquiries.csv')\n",
        "baseline_inquiries.to_csv('/content/drive/My Drive/CANDEV 2020/baseline_inquiries.csv')"
      ],
      "execution_count": 0,
      "outputs": []
    },
    {
      "cell_type": "code",
      "metadata": {
        "id": "gHZmvfQzgZA3",
        "colab_type": "code",
        "colab": {
          "base_uri": "https://localhost:8080/",
          "height": 34
        },
        "outputId": "63e5460f-0646-4526-e003-e6abe1074077"
      },
      "source": [
        "filtered_inquiries.shape"
      ],
      "execution_count": 176,
      "outputs": [
        {
          "output_type": "execute_result",
          "data": {
            "text/plain": [
              "(1080, 19)"
            ]
          },
          "metadata": {
            "tags": []
          },
          "execution_count": 176
        }
      ]
    },
    {
      "cell_type": "code",
      "metadata": {
        "id": "FXUJv6vQgfIg",
        "colab_type": "code",
        "colab": {
          "base_uri": "https://localhost:8080/",
          "height": 34
        },
        "outputId": "b1ee593f-13e7-443d-d60c-77462cef881d"
      },
      "source": [
        "baseline_inquiries.shape"
      ],
      "execution_count": 177,
      "outputs": [
        {
          "output_type": "execute_result",
          "data": {
            "text/plain": [
              "(591, 19)"
            ]
          },
          "metadata": {
            "tags": []
          },
          "execution_count": 177
        }
      ]
    },
    {
      "cell_type": "code",
      "metadata": {
        "id": "GwLMm6c-TB0E",
        "colab_type": "code",
        "colab": {}
      },
      "source": [
        ""
      ],
      "execution_count": 0,
      "outputs": []
    },
    {
      "cell_type": "code",
      "metadata": {
        "id": "2wmDQGuTWJZ_",
        "colab_type": "code",
        "colab": {}
      },
      "source": [
        ""
      ],
      "execution_count": 0,
      "outputs": []
    },
    {
      "cell_type": "code",
      "metadata": {
        "id": "6lE1UtNEqJw-",
        "colab_type": "code",
        "colab": {}
      },
      "source": [
        ""
      ],
      "execution_count": 0,
      "outputs": []
    },
    {
      "cell_type": "code",
      "metadata": {
        "id": "EtcvjJ4aELaJ",
        "colab_type": "code",
        "colab": {}
      },
      "source": [
        ""
      ],
      "execution_count": 0,
      "outputs": []
    },
    {
      "cell_type": "code",
      "metadata": {
        "id": "d-O8Z0kwEZ7B",
        "colab_type": "code",
        "colab": {}
      },
      "source": [
        ""
      ],
      "execution_count": 0,
      "outputs": []
    },
    {
      "cell_type": "code",
      "metadata": {
        "id": "Vo9-TdxXFNs6",
        "colab_type": "code",
        "colab": {}
      },
      "source": [
        ""
      ],
      "execution_count": 0,
      "outputs": []
    }
  ]
}