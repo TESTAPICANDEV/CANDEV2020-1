{
 "cells": [
  {
   "cell_type": "code",
   "execution_count": 1,
   "metadata": {
    "colab": {},
    "colab_type": "code",
    "id": "TGT-xiGYTX4k"
   },
   "outputs": [],
   "source": [
    "import tensorflow as tf\n",
    "import pandas as pd\n",
    "import numpy as np\n",
    "import zipfile\n",
    "import os\n",
    "from functools import reduce"
   ]
  },
  {
   "cell_type": "markdown",
   "metadata": {
    "colab_type": "text",
    "id": "xv7_IEFGWV7X"
   },
   "source": [
    "There are 21files"
   ]
  },
  {
   "cell_type": "code",
   "execution_count": 52,
   "metadata": {
    "colab": {},
    "colab_type": "code",
    "id": "S6nSjVQpYBiO"
   },
   "outputs": [
    {
     "name": "stdout",
     "output_type": "stream",
     "text": [
      "['ISED tweet_activity_metrics_ISED - Apr 2019 - EN.xlsx', 'ISED tweet_activity_metrics_ISED - Aug 2019 - EN.xlsx', 'ISED tweet_activity_metrics_ISED - Feb 2019 - EN.csv', 'ISED tweet_activity_metrics_ISED - Jan 2019 - EN.csv', 'ISED tweet_activity_metrics_ISED - July 2019 - EN.xlsx', 'ISED tweet_activity_metrics_ISED - June 2019 - EN.xlsx', 'ISED tweet_activity_metrics_ISED - Mar 2019 - EN.xlsx', 'ISED tweet_activity_metrics_ISED - May 2019 - EN.xlsx']\n"
     ]
    }
   ],
   "source": [
    "main_path='C:/Users/Mansoor/Desktop/CanDev 2020/Social Media Data-20200118T194044Z-001/Social Media Data/CD_ISED_tweet'\n",
    "\n",
    "file_names=os.listdir(main_path)\n",
    "\n",
    "print(file_names)\n",
    "\n",
    "\n",
    "f='C:/Users/Mansoor/Desktop/CanDev 2020/Social Media Data-20200118T194044Z-001/Social Media Data/CD_ISED_tweet/'#main path name with a /\n"
   ]
  },
  {
   "cell_type": "code",
   "execution_count": 53,
   "metadata": {
    "colab": {},
    "colab_type": "code",
    "id": "iKuHAv7uXrLG"
   },
   "outputs": [],
   "source": [
    "path1=str(f)+str(file_names[0])\n",
    "path2=str(f)+str(file_names[1])\n",
    "path3=str(f)+str(file_names[2])\n",
    "path4=str(f)+str(file_names[3])\n",
    "path5=str(f)+str(file_names[4])\n",
    "path6=str(f)+str(file_names[5])\n",
    "path7=str(f)+str(file_names[6])\n",
    "path8=str(f)+str(file_names[7])\n",
    "#path9=str(f)+str(file_names[8])\n",
    "#path10=str(f)+str(file_names[9])\n",
    "#path11=str(f)+str(file_names[10])\n",
    "#path12=str(f)+str(file_names[11])\n",
    "#path13=str(f)+str(file_names[12])\n",
    "#path14=str(f)+str(file_names[13])\n",
    "#path15=str(f)+str(file_names[14])\n",
    "#path16=str(f)+str(file_names[15])\n",
    "#path17=str(f)+str(file_names[16])\n",
    "#path18=str(f)+str(file_names[17])\n",
    "#path19=str(f)+str(file_names[18])\n",
    "#path20=str(f)+str(file_names[19])\n",
    "#path21=str(f)+str(file_names[20])\n",
    "\n"
   ]
  },
  {
   "cell_type": "code",
   "execution_count": 54,
   "metadata": {},
   "outputs": [
    {
     "data": {
      "text/plain": [
       "str"
      ]
     },
     "execution_count": 54,
     "metadata": {},
     "output_type": "execute_result"
    }
   ],
   "source": [
    "type(path1)"
   ]
  },
  {
   "cell_type": "code",
   "execution_count": 55,
   "metadata": {
    "colab": {},
    "colab_type": "code",
    "id": "xQUCp4QyTbt9"
   },
   "outputs": [],
   "source": [
    "df1=pd.read_excel(path1)\n",
    "df1[\"Month\"]=\"Apr\"\n",
    "df2=pd.read_excel(path2)\n",
    "df2[\"Month\"]=\"Aug\"\n",
    "df3=pd.read_csv(path3)\n",
    "df3[\"Month\"]=\"Feb\"\n",
    "df4=pd.read_csv(path4)\n",
    "df4[\"Month\"]=\"Jan\"\n",
    "df5=pd.read_excel(path5)\n",
    "df5[\"Month\"]=\"Jul\"\n",
    "df6=pd.read_excel(path6)\n",
    "df6[\"Month\"]=\"Jun\"\n",
    "df7=pd.read_excel(path7)\n",
    "df7[\"Month\"]=\"Mar\"\n",
    "df8=pd.read_excel(path8)\n",
    "df8[\"Month\"]=\"May\"\n"
   ]
  },
  {
   "cell_type": "code",
   "execution_count": 56,
   "metadata": {
    "colab": {},
    "colab_type": "code",
    "id": "lbPYjbd3aZrB"
   },
   "outputs": [],
   "source": [
    "dfs=[df1,df2,df3,df4,df5,df6,df7,df8]\n",
    "all_files=pd.concat(dfs,axis=0)"
   ]
  },
  {
   "cell_type": "code",
   "execution_count": 57,
   "metadata": {},
   "outputs": [
    {
     "data": {
      "text/plain": [
       "May    88\n",
       "Jun    61\n",
       "Aug    55\n",
       "Feb    52\n",
       "Mar    47\n",
       "Jul    44\n",
       "Apr    43\n",
       "Jan    39\n",
       "Name: Month, dtype: int64"
      ]
     },
     "execution_count": 57,
     "metadata": {},
     "output_type": "execute_result"
    }
   ],
   "source": [
    "all_files.Month.value_counts()"
   ]
  },
  {
   "cell_type": "code",
   "execution_count": 60,
   "metadata": {},
   "outputs": [],
   "source": [
    "all_files.to_csv('C:/Users/Mansoor/Desktop/CanDev 2020/Social Media Data-20200118T194044Z-001/Social Media Data/CD_ISED_tweet/all_ised.csv')"
   ]
  },
  {
   "cell_type": "code",
   "execution_count": null,
   "metadata": {},
   "outputs": [],
   "source": []
  }
 ],
 "metadata": {
  "colab": {
   "name": "Finale.ipynb",
   "provenance": [],
   "version": "0.3.2"
  },
  "kernelspec": {
   "display_name": "Python 3",
   "language": "python",
   "name": "python3"
  },
  "language_info": {
   "codemirror_mode": {
    "name": "ipython",
    "version": 3
   },
   "file_extension": ".py",
   "mimetype": "text/x-python",
   "name": "python",
   "nbconvert_exporter": "python",
   "pygments_lexer": "ipython3",
   "version": "3.7.4"
  }
 },
 "nbformat": 4,
 "nbformat_minor": 1
}
